{
 "cells": [
  {
   "cell_type": "code",
   "execution_count": 6,
   "metadata": {},
   "outputs": [
    {
     "name": "stderr",
     "output_type": "stream",
     "text": [
      "3it [00:00, 31.71it/s]\n",
      "3it [00:00, 456.42it/s]\n",
      "3it [00:00, 116.48it/s]\n"
     ]
    }
   ],
   "source": [
    "import os\n",
    "from tqdm import tqdm\n",
    "\n",
    "def rename_files(directory):\n",
    "    for root, dirs, files in tqdm(os.walk(directory)):\n",
    "        for file in files:\n",
    "            if '&' in file:\n",
    "                new_file_name = file.replace('&', '')\n",
    "                os.rename(os.path.join(root, file), os.path.join(root, new_file_name))\n",
    "                print(f\"Renamed '{file}' to '{new_file_name}'\")\n",
    "\n",
    "dataset_path = \"../../../data/nude_detection/nude_classification_images\"\n",
    "\n",
    "for subdir in ['train', 'val', 'test']:\n",
    "    rename_files(os.path.join(dataset_path, subdir))\n"
   ]
  },
  {
   "cell_type": "code",
   "execution_count": 7,
   "metadata": {},
   "outputs": [
    {
     "name": "stderr",
     "output_type": "stream",
     "text": [
      "3it [00:00, 42.55it/s]\n",
      "3it [00:00, 487.65it/s]\n",
      "3it [00:00, 512.02it/s]\n"
     ]
    }
   ],
   "source": [
    "import os\n",
    "from tqdm import tqdm\n",
    "\n",
    "def rename_files(directory):\n",
    "    for root, dirs, files in tqdm(os.walk(directory)):\n",
    "        for file in files:\n",
    "            if '&' in file:\n",
    "                new_file_name = file.replace(';', '')\n",
    "                os.rename(os.path.join(root, file), os.path.join(root, new_file_name))\n",
    "                print(f\"Renamed '{file}' to '{new_file_name}'\")\n",
    "\n",
    "dataset_path = \"../../../data/nude_detection/nude_classification_images\"\n",
    "\n",
    "for subdir in ['train', 'val', 'test']:\n",
    "    rename_files(os.path.join(dataset_path, subdir))"
   ]
  }
 ],
 "metadata": {
  "kernelspec": {
   "display_name": "ml",
   "language": "python",
   "name": "python3"
  },
  "language_info": {
   "codemirror_mode": {
    "name": "ipython",
    "version": 3
   },
   "file_extension": ".py",
   "mimetype": "text/x-python",
   "name": "python",
   "nbconvert_exporter": "python",
   "pygments_lexer": "ipython3",
   "version": "3.9.7"
  }
 },
 "nbformat": 4,
 "nbformat_minor": 2
}
